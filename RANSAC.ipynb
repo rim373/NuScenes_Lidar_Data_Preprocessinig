{
 "cells": [
  {
   "cell_type": "code",
   "execution_count": 1,
   "id": "dce34a91",
   "metadata": {},
   "outputs": [
    {
     "name": "stdout",
     "output_type": "stream",
     "text": [
      "Jupyter environment detected. Enabling Open3D WebVisualizer.\n",
      "[Open3D INFO] WebRTC GUI backend enabled.\n",
      "[Open3D INFO] WebRTCWindowSystem: HTTP handshake server disabled.\n"
     ]
    }
   ],
   "source": [
    "import open3d as o3d\n",
    "import numpy as np\n",
    "import os\n",
    "\n",
    "# Directory where the file is located\n",
    "directory = \"D:/COMPLEX_YOLO/VOD/view_of_delft_PUBLIC/lidar/training/velodyne\"\n",
    "\n",
    "# Specify the file you want to process\n",
    "filename = \"00544.bin\"\n",
    "\n",
    "# Load binary point cloud\n",
    "bin_pcd = np.fromfile(os.path.join(directory, filename), dtype=np.float32)\n",
    "points = bin_pcd.reshape((-1, 4))[:, 0:3]\n",
    "\n",
    "# Convert to Open3D point cloud\n",
    "o3d_pcd = o3d.geometry.PointCloud(o3d.utility.Vector3dVector(points))\n",
    "\n",
    "# Filter points \n",
    "filtered_points = [point for point in o3d_pcd.points if point[2] < 2.0 and point[1] < 20.0 and point[1] > -20.0 and point[0] < 100 and point[0] > 0.0]\n",
    "\n",
    "# Convert to Open3D point cloud\n",
    "filtred_PCL = o3d.geometry.PointCloud(o3d.utility.Vector3dVector(filtered_points))\n",
    "\n",
    "# Visualize the filtered point cloud\n",
    "o3d.visualization.draw_geometries([filtred_PCL])"
   ]
  },
  {
   "cell_type": "code",
   "execution_count": 2,
   "id": "d0a3be81",
   "metadata": {},
   "outputs": [],
   "source": [
    "def ransac(point_cloud, distance_threshold=0.1, ransac_n=3, num_iterations=2000):\n",
    "    \"\"\"\n",
    "    RANSAC-based plane segmentation for a point cloud.\n",
    "    Parameters:\n",
    "        point_cloud (open3d.geometry.PointCloud): The input point cloud.\n",
    "        distance_threshold (float, optional): The maximum distance a point can be from the plane to be considered an inlier.\n",
    "            Default is 0.33.\n",
    "        ransac_n (int, optional): The number of points to randomly sample for each iteration of RANSAC. Default is 3.\n",
    "        num_iterations (int, optional): The number of RANSAC iterations to perform. Default is 100.\n",
    "    Returns:\n",
    "        open3d.geometry.PointCloud, open3d.geometry.PointCloud: Two point clouds representing the inliers and outliers\n",
    "        of the segmented plane, respectively.\n",
    "    \"\"\"\n",
    "    # Perform plane segmentation using RANSAC\n",
    "    plane_model, inliers = point_cloud.segment_plane(distance_threshold=distance_threshold, ransac_n=ransac_n,\n",
    "                                                    num_iterations=num_iterations)\n",
    "\n",
    "    # Extract inlier and outlier point clouds\n",
    "    inlier_cloud = point_cloud.select_by_index(inliers)\n",
    "    outlier_cloud = point_cloud.select_by_index(inliers, invert=True)\n",
    "\n",
    "    # Color the outlier cloud red and the inlier cloud blue\n",
    "    outlier_cloud.paint_uniform_color([0.8, 0.2, 0.2])  # Red\n",
    "    inlier_cloud.paint_uniform_color([0.25, 0.5, 0.75])  # Blue\n",
    "    return outlier_cloud, inlier_cloud"
   ]
  },
  {
   "cell_type": "code",
   "execution_count": 3,
   "id": "d2fce9c7",
   "metadata": {},
   "outputs": [],
   "source": [
    "outliers, inliers = ransac(filtred_PCL, distance_threshold=0.1, ransac_n=3, num_iterations=2000)\n",
    "\n",
    "# Visualize the segmented plane and outliers\n",
    "o3d.visualization.draw_geometries([inliers,outliers])"
   ]
  }
 ],
 "metadata": {
  "kernelspec": {
   "display_name": "Python 3 (ipykernel)",
   "language": "python",
   "name": "python3"
  },
  "language_info": {
   "codemirror_mode": {
    "name": "ipython",
    "version": 3
   },
   "file_extension": ".py",
   "mimetype": "text/x-python",
   "name": "python",
   "nbconvert_exporter": "python",
   "pygments_lexer": "ipython3",
   "version": "3.11.5"
  }
 },
 "nbformat": 4,
 "nbformat_minor": 5
}
